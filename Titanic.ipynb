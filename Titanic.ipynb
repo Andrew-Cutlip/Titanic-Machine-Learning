{
 "cells": [
  {
   "cell_type": "code",
   "execution_count": 1,
   "metadata": {},
   "outputs": [],
   "source": [
    "import numpy as np\n",
    "import pandas as pd\n",
    "from sklearn.ensemble import RandomForestClassifier"
   ]
  },
  {
   "cell_type": "code",
   "execution_count": 2,
   "metadata": {},
   "outputs": [],
   "source": [
    "train = pd.read_csv(\"train.csv\")\n",
    "test = pd.read_csv(\"test.csv\")\n",
    "features = train.copy()\n",
    "target = train.pop(\"Survived\")"
   ]
  },
  {
   "cell_type": "code",
   "execution_count": 3,
   "metadata": {
    "scrolled": true
   },
   "outputs": [],
   "source": [
    "sex_map = {\n",
    "    \"male\": 0,\n",
    "    \"female\": 1\n",
    "}\n",
    "features = features.replace(sex_map)\n",
    "test = test.replace(sex_map)\n",
    "# Replace Missing age with average age instead maybe\n",
    "age = features[\"Age\"] + test[\"Age\"]\n",
    "age_mean = age.mean()\n",
    "features['Age'] = features['Age'].fillna(age_mean)\n",
    "test['Age'] = test['Age'].fillna(age_mean)\n",
    "test = test.fillna(0)\n",
    "# Look for names that contain Master or other titles and create a new feature for that\n",
    "id = test['PassengerId']\n",
    "train_names = features[\"Name\"]\n",
    "test_names = test[\"Name\"]\n",
    "train_title = []\n",
    "test_title = []\n",
    "for name in train_names:\n",
    "    if \"Mr\" in name:\n",
    "        train_title.append(1)\n",
    "    elif \"Miss\" in name:\n",
    "        train_title.append(2)\n",
    "    elif \"Mrs\" in name:\n",
    "        train_title.append(3)\n",
    "    elif \"Master\" in name:\n",
    "        train_title.append(4)\n",
    "    else:\n",
    "        train_title.append(0)\n",
    "for name in test_names:\n",
    "    if \"Mr\" in name:\n",
    "        test_title.append(1)\n",
    "    elif \"Miss\" in name:\n",
    "        test_title.append(2)\n",
    "    elif \"Mrs\" in name:\n",
    "        test_title.append(3)\n",
    "    elif \"Master\" in name:\n",
    "        test_title.append(4)\n",
    "    else:\n",
    "        test_title.append(0)    \n",
    "\n",
    "features = features.drop(columns=[\"Name\", \"Survived\", \"Ticket\", \"PassengerId\", \"Cabin\"])\n",
    "test = test.drop(columns=[\"Name\", \"Ticket\", \"PassengerId\", \"Cabin\"])\n",
    "features[\"Embarked\"] = pd.Categorical(features[\"Embarked\"])\n",
    "test[\"Embarked\"] = pd.Categorical(test[\"Embarked\"])\n",
    "features[\"Embarked\"] = features.Embarked.cat.codes\n",
    "test[\"Embarked\"] = test.Embarked.cat.codes"
   ]
  },
  {
   "cell_type": "code",
   "execution_count": 5,
   "metadata": {
    "scrolled": true
   },
   "outputs": [],
   "source": [
    "rf = RandomForestClassifier(n_estimators=100)\n",
    "rf.fit(features, target)\n",
    "results = rf.predict(test)"
   ]
  },
  {
   "cell_type": "code",
   "execution_count": 6,
   "metadata": {},
   "outputs": [],
   "source": [
    "results\n",
    "write = {\n",
    "    \"PassengerId\" : id,\n",
    "    \"Survived\" : results\n",
    "}\n",
    "write_df = pd.DataFrame(data=write)\n",
    "write_df.to_csv(\"results.csv\", index=False)"
   ]
  },
  {
   "cell_type": "code",
   "execution_count": 7,
   "metadata": {},
   "outputs": [
    {
     "data": {
      "text/html": [
       "<div>\n",
       "<style scoped>\n",
       "    .dataframe tbody tr th:only-of-type {\n",
       "        vertical-align: middle;\n",
       "    }\n",
       "\n",
       "    .dataframe tbody tr th {\n",
       "        vertical-align: top;\n",
       "    }\n",
       "\n",
       "    .dataframe thead th {\n",
       "        text-align: right;\n",
       "    }\n",
       "</style>\n",
       "<table border=\"1\" class=\"dataframe\">\n",
       "  <thead>\n",
       "    <tr style=\"text-align: right;\">\n",
       "      <th></th>\n",
       "      <th>PassengerId</th>\n",
       "      <th>Survived</th>\n",
       "    </tr>\n",
       "  </thead>\n",
       "  <tbody>\n",
       "    <tr>\n",
       "      <th>0</th>\n",
       "      <td>892</td>\n",
       "      <td>0</td>\n",
       "    </tr>\n",
       "    <tr>\n",
       "      <th>1</th>\n",
       "      <td>893</td>\n",
       "      <td>0</td>\n",
       "    </tr>\n",
       "    <tr>\n",
       "      <th>2</th>\n",
       "      <td>894</td>\n",
       "      <td>0</td>\n",
       "    </tr>\n",
       "    <tr>\n",
       "      <th>3</th>\n",
       "      <td>895</td>\n",
       "      <td>1</td>\n",
       "    </tr>\n",
       "    <tr>\n",
       "      <th>4</th>\n",
       "      <td>896</td>\n",
       "      <td>0</td>\n",
       "    </tr>\n",
       "    <tr>\n",
       "      <th>...</th>\n",
       "      <td>...</td>\n",
       "      <td>...</td>\n",
       "    </tr>\n",
       "    <tr>\n",
       "      <th>413</th>\n",
       "      <td>1305</td>\n",
       "      <td>0</td>\n",
       "    </tr>\n",
       "    <tr>\n",
       "      <th>414</th>\n",
       "      <td>1306</td>\n",
       "      <td>1</td>\n",
       "    </tr>\n",
       "    <tr>\n",
       "      <th>415</th>\n",
       "      <td>1307</td>\n",
       "      <td>0</td>\n",
       "    </tr>\n",
       "    <tr>\n",
       "      <th>416</th>\n",
       "      <td>1308</td>\n",
       "      <td>0</td>\n",
       "    </tr>\n",
       "    <tr>\n",
       "      <th>417</th>\n",
       "      <td>1309</td>\n",
       "      <td>1</td>\n",
       "    </tr>\n",
       "  </tbody>\n",
       "</table>\n",
       "<p>418 rows × 2 columns</p>\n",
       "</div>"
      ],
      "text/plain": [
       "     PassengerId  Survived\n",
       "0            892         0\n",
       "1            893         0\n",
       "2            894         0\n",
       "3            895         1\n",
       "4            896         0\n",
       "..           ...       ...\n",
       "413         1305         0\n",
       "414         1306         1\n",
       "415         1307         0\n",
       "416         1308         0\n",
       "417         1309         1\n",
       "\n",
       "[418 rows x 2 columns]"
      ]
     },
     "execution_count": 7,
     "metadata": {},
     "output_type": "execute_result"
    }
   ],
   "source": [
    "write_df"
   ]
  },
  {
   "cell_type": "code",
   "execution_count": null,
   "metadata": {},
   "outputs": [],
   "source": []
  }
 ],
 "metadata": {
  "kernelspec": {
   "display_name": "Python 3",
   "language": "python",
   "name": "python3"
  },
  "language_info": {
   "codemirror_mode": {
    "name": "ipython",
    "version": 3
   },
   "file_extension": ".py",
   "mimetype": "text/x-python",
   "name": "python",
   "nbconvert_exporter": "python",
   "pygments_lexer": "ipython3",
   "version": "3.8.3"
  }
 },
 "nbformat": 4,
 "nbformat_minor": 4
}
